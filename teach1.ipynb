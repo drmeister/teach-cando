{
 "cells": [
  {
   "cell_type": "code",
   "execution_count": 65,
   "metadata": {},
   "outputs": [
    {
     "data": {
      "text/plain": [
       "*A1*"
      ]
     },
     "execution_count": 65,
     "metadata": {},
     "output_type": "execute_result"
    }
   ],
   "source": [
    "(:= *a1* (chem:make-atom :c1 :c))"
   ]
  },
  {
   "cell_type": "code",
   "execution_count": 66,
   "metadata": {},
   "outputs": [
    {
     "data": {
      "text/plain": [
       "*A2*"
      ]
     },
     "execution_count": 66,
     "metadata": {},
     "output_type": "execute_result"
    }
   ],
   "source": [
    "(:= *a2* (chem:make-atom :c2 :c))"
   ]
  },
  {
   "cell_type": "code",
   "execution_count": 67,
   "metadata": {},
   "outputs": [
    {
     "data": {
      "text/plain": [
       "(Bond #<ATOM :C1/:C>-#<ATOM :C2/:C> @0x116a03788)"
      ]
     },
     "execution_count": 67,
     "metadata": {},
     "output_type": "execute_result"
    }
   ],
   "source": [
    "(chem:bond-to *a1* *a2* :single-bond)"
   ]
  },
  {
   "cell_type": "code",
   "execution_count": 68,
   "metadata": {},
   "outputs": [
    {
     "data": {
      "text/plain": [
       "*R*"
      ]
     },
     "execution_count": 68,
     "metadata": {},
     "output_type": "execute_result"
    }
   ],
   "source": [
    "(:= *r* (chem:make-residue :res1))"
   ]
  },
  {
   "cell_type": "code",
   "execution_count": 69,
   "metadata": {},
   "outputs": [
    {
     "data": {
      "text/plain": [
       "NIL"
      ]
     },
     "execution_count": 69,
     "metadata": {},
     "output_type": "execute_result"
    }
   ],
   "source": [
    "(chem:add-atom *r* *a1*)"
   ]
  },
  {
   "cell_type": "code",
   "execution_count": 70,
   "metadata": {},
   "outputs": [
    {
     "data": {
      "text/plain": [
       "NIL"
      ]
     },
     "execution_count": 70,
     "metadata": {},
     "output_type": "execute_result"
    }
   ],
   "source": [
    "(chem:add-atom *r* *a2*)"
   ]
  },
  {
   "cell_type": "code",
   "execution_count": 71,
   "metadata": {},
   "outputs": [
    {
     "data": {
      "text/plain": [
       "*M*"
      ]
     },
     "execution_count": 71,
     "metadata": {},
     "output_type": "execute_result"
    }
   ],
   "source": [
    "(:= *m* (chem:make-molecule :m1))"
   ]
  },
  {
   "cell_type": "code",
   "execution_count": 72,
   "metadata": {},
   "outputs": [
    {
     "data": {
      "text/plain": [
       "NIL"
      ]
     },
     "execution_count": 72,
     "metadata": {},
     "output_type": "execute_result"
    }
   ],
   "source": [
    "(chem:add-matter *m* *r*)"
   ]
  },
  {
   "cell_type": "code",
   "execution_count": 73,
   "metadata": {},
   "outputs": [
    {
     "data": {
      "text/plain": [
       "*AGG*"
      ]
     },
     "execution_count": 73,
     "metadata": {},
     "output_type": "execute_result"
    }
   ],
   "source": [
    "(:= *agg* (chem:make-aggregate :a1))"
   ]
  },
  {
   "cell_type": "code",
   "execution_count": 74,
   "metadata": {},
   "outputs": [
    {
     "data": {
      "text/plain": [
       "NIL"
      ]
     },
     "execution_count": 74,
     "metadata": {},
     "output_type": "execute_result"
    }
   ],
   "source": [
    "(chem:add-matter *agg* *m*)"
   ]
  },
  {
   "cell_type": "code",
   "execution_count": 75,
   "metadata": {},
   "outputs": [
    {
     "data": {
      "text/plain": [
       "NIL"
      ]
     },
     "execution_count": 75,
     "metadata": {},
     "output_type": "execute_result"
    }
   ],
   "source": [
    "(chem:set-position *a1* '(1.0 0.0 0.0))"
   ]
  },
  {
   "cell_type": "code",
   "execution_count": 76,
   "metadata": {},
   "outputs": [
    {
     "data": {
      "text/plain": [
       "NIL"
      ]
     },
     "execution_count": 76,
     "metadata": {},
     "output_type": "execute_result"
    }
   ],
   "source": [
    "(chem:set-position *a2* '(-1.0 0.0 0.0))"
   ]
  },
  {
   "cell_type": "code",
   "execution_count": 77,
   "metadata": {},
   "outputs": [
    {
     "data": {
      "text/plain": [
       "[ 1 0 0 ]"
      ]
     },
     "execution_count": 77,
     "metadata": {},
     "output_type": "execute_result"
    }
   ],
   "source": [
    "(chem:get-position *a1*)"
   ]
  },
  {
   "cell_type": "code",
   "execution_count": 78,
   "metadata": {},
   "outputs": [
    {
     "data": {
      "application/vnd.jupyter.widget-view+json": {
       "model_id": "295B88B7-7F88-4126-806C-74F7C8CAA369",
       "version_major": 2,
       "version_minor": 0
      },
      "text/html": [
       "<p>Failed to display Jupyter Widget of type <code>{widget_type}</code>.</p>\n",
       "<p>\n",
       "  If you're reading this message in the Jupyter Notebook or JupyterLab Notebook, it may mean\n",
       "  that the widgets JavaScript is still loading. If this message persists, it\n",
       "  likely means that the widgets JavaScript library is either not installed or\n",
       "  not enabled. See the <a href=\"https://ipywidgets.readthedocs.io/en/stable/user_install.html\">Jupyter\n",
       "  Widgets Documentation</a> for setup instructions.\n",
       "</p>\n",
       "<p>\n",
       "  If you're reading this message in another frontend (for example, a static\n",
       "  rendering on GitHub or <a href=\"https://nbviewer.jupyter.org/\">NBViewer</a>),\n",
       "  it may mean that your frontend doesn't currently support widgets.\n",
       "</p>\n"
      ],
      "text/plain": [
       "A Jupyter Widget"
      ]
     },
     "execution_count": 78,
     "metadata": {},
     "output_type": "execute_result"
    }
   ],
   "source": [
    "(show *agg*)"
   ]
  },
  {
   "cell_type": "code",
   "execution_count": 79,
   "metadata": {},
   "outputs": [
    {
     "name": "stdout",
     "output_type": "stream",
     "text": [
      "CHEM:CREATE-IMPLICIT-HYDROGEN-NAMES  Function\n",
      "CHEM:FILL-IN-IMPLICIT-HYDROGENS  Function\n"
     ]
    },
    {
     "data": {
      "text/plain": [
       "NIL"
      ]
     },
     "execution_count": 79,
     "metadata": {},
     "output_type": "execute_result"
    }
   ],
   "source": [
    "(apropos \"implicit\" :leap)"
   ]
  },
  {
   "cell_type": "code",
   "execution_count": 80,
   "metadata": {},
   "outputs": [
    {
     "data": {
      "text/plain": [
       "(CORE::NAME CORE::ELEMENT)"
      ]
     },
     "execution_count": 80,
     "metadata": {},
     "output_type": "execute_result"
    }
   ],
   "source": [
    "(core:function-lambda-list 'chem:make-atom)"
   ]
  },
  {
   "cell_type": "code",
   "execution_count": 81,
   "metadata": {},
   "outputs": [
    {
     "name": "stderr",
     "output_type": "stream",
     "text": [
      "Reader error: Cannot find the external symbol FIL in #<CHEM> (condition of type SIMPLE-PROGRAM-ERROR)\n"
     ]
    },
    {
     "data": {
      "text/plain": [
       "NIL"
      ]
     },
     "execution_count": 81,
     "metadata": {},
     "output_type": "execute_result"
    }
   ],
   "source": [
    "(chem:fil *agg*)"
   ]
  },
  {
   "cell_type": "code",
   "execution_count": 81,
   "metadata": {},
   "outputs": [
    {
     "data": {
      "text/plain": [
       "NIL"
      ]
     },
     "execution_count": 81,
     "metadata": {},
     "output_type": "execute_result"
    }
   ],
   "source": [
    "(jostle *agg*)"
   ]
  },
  {
   "cell_type": "code",
   "execution_count": 82,
   "metadata": {},
   "outputs": [
    {
     "data": {
      "application/vnd.jupyter.widget-view+json": {
       "model_id": "717ED811-5678-4448-839F-2E02DBABA0D1",
       "version_major": 2,
       "version_minor": 0
      },
      "text/html": [
       "<p>Failed to display Jupyter Widget of type <code>{widget_type}</code>.</p>\n",
       "<p>\n",
       "  If you're reading this message in the Jupyter Notebook or JupyterLab Notebook, it may mean\n",
       "  that the widgets JavaScript is still loading. If this message persists, it\n",
       "  likely means that the widgets JavaScript library is either not installed or\n",
       "  not enabled. See the <a href=\"https://ipywidgets.readthedocs.io/en/stable/user_install.html\">Jupyter\n",
       "  Widgets Documentation</a> for setup instructions.\n",
       "</p>\n",
       "<p>\n",
       "  If you're reading this message in another frontend (for example, a static\n",
       "  rendering on GitHub or <a href=\"https://nbviewer.jupyter.org/\">NBViewer</a>),\n",
       "  it may mean that your frontend doesn't currently support widgets.\n",
       "</p>\n"
      ],
      "text/plain": [
       "A Jupyter Widget"
      ]
     },
     "execution_count": 82,
     "metadata": {},
     "output_type": "execute_result"
    }
   ],
   "source": [
    "(show *agg*)"
   ]
  },
  {
   "cell_type": "code",
   "execution_count": 83,
   "metadata": {},
   "outputs": [
    {
     "name": "stderr",
     "output_type": "stream",
     "text": [
      "SIMPLE-WARNING: \n",
      "Warning!  Skipping 10-12 hbond\n",
      "SIMPLE-WARNING: \n",
      "Warning!  Skipping force field atom equivalences\n"
     ]
    },
    {
     "data": {
      "text/plain": [
       "(#<FORCE-FIELD gaff.dat> #<FORCE-FIELD ATOMTYPE_GFF.DEF>)"
      ]
     },
     "execution_count": 83,
     "metadata": {},
     "output_type": "execute_result"
    }
   ],
   "source": [
    "(easy-gaff)"
   ]
  },
  {
   "cell_type": "code",
   "execution_count": 84,
   "metadata": {},
   "outputs": [
    {
     "data": {
      "text/plain": [
       "NIL"
      ]
     },
     "execution_count": 84,
     "metadata": {},
     "output_type": "execute_result"
    }
   ],
   "source": [
    "(assign-atom-types *agg*)"
   ]
  },
  {
   "cell_type": "code",
   "execution_count": 85,
   "metadata": {},
   "outputs": [
    {
     "data": {
      "text/plain": [
       ":|c1|"
      ]
     },
     "execution_count": 85,
     "metadata": {},
     "output_type": "execute_result"
    }
   ],
   "source": [
    "(chem:get-type *a1*)"
   ]
  },
  {
   "cell_type": "code",
   "execution_count": 86,
   "metadata": {},
   "outputs": [
    {
     "name": "stdout",
     "output_type": "stream",
     "text": [
      "minimize-no-fail\n",
      "======= Starting Steepest Descent Minimizer\n",
      "---Stage-Seconds--Step-log(Alpha)--Dir-------------Energy-----------RMSforce\n",
      " minSDnP       0     1      -inf   0.0              0.000          14863.515\n",
      "DONE absolute force test:\n",
      "forceRmsMag(0.000000).LT.forceTolerance(5000.000000)\n",
      "======= Starting Conjugate Gradient Minimizer\n",
      "DONE absolute force test:\n",
      "forceRmsMag(0.000000).LT.forceTolerance(0.500000)\n",
      "minimize-no-fail\n",
      "======= Starting Steepest Descent Minimizer\n",
      "DONE absolute force test:\n",
      "forceRmsMag(0.000000).LT.forceTolerance(5000.000000)\n",
      "======= Starting Conjugate Gradient Minimizer\n",
      "DONE absolute force test:\n",
      "forceRmsMag(0.000000).LT.forceTolerance(0.500000)\n"
     ]
    },
    {
     "data": {
      "text/plain": [
       "#<ENERGY-FUNCTION >"
      ]
     },
     "execution_count": 86,
     "metadata": {},
     "output_type": "execute_result"
    }
   ],
   "source": [
    "(minimize *agg*)"
   ]
  },
  {
   "cell_type": "code",
   "execution_count": 87,
   "metadata": {},
   "outputs": [
    {
     "data": {
      "application/vnd.jupyter.widget-view+json": {
       "model_id": "0124A663-F338-48A0-B3AA-94A600FBC318",
       "version_major": 2,
       "version_minor": 0
      },
      "text/html": [
       "<p>Failed to display Jupyter Widget of type <code>{widget_type}</code>.</p>\n",
       "<p>\n",
       "  If you're reading this message in the Jupyter Notebook or JupyterLab Notebook, it may mean\n",
       "  that the widgets JavaScript is still loading. If this message persists, it\n",
       "  likely means that the widgets JavaScript library is either not installed or\n",
       "  not enabled. See the <a href=\"https://ipywidgets.readthedocs.io/en/stable/user_install.html\">Jupyter\n",
       "  Widgets Documentation</a> for setup instructions.\n",
       "</p>\n",
       "<p>\n",
       "  If you're reading this message in another frontend (for example, a static\n",
       "  rendering on GitHub or <a href=\"https://nbviewer.jupyter.org/\">NBViewer</a>),\n",
       "  it may mean that your frontend doesn't currently support widgets.\n",
       "</p>\n"
      ],
      "text/plain": [
       "A Jupyter Widget"
      ]
     },
     "execution_count": 87,
     "metadata": {},
     "output_type": "execute_result"
    }
   ],
   "source": [
    "(show *agg*)"
   ]
  },
  {
   "cell_type": "code",
   "execution_count": 88,
   "metadata": {},
   "outputs": [
    {
     "data": {
      "text/plain": [
       "NIL"
      ]
     },
     "execution_count": 88,
     "metadata": {},
     "output_type": "execute_result"
    }
   ],
   "source": [
    "(jostle *agg* 1.0)"
   ]
  },
  {
   "cell_type": "code",
   "execution_count": 89,
   "metadata": {},
   "outputs": [
    {
     "data": {
      "application/vnd.jupyter.widget-view+json": {
       "model_id": "FA3B3BA2-DDCE-48D5-AA81-015B4982D225",
       "version_major": 2,
       "version_minor": 0
      },
      "text/html": [
       "<p>Failed to display Jupyter Widget of type <code>{widget_type}</code>.</p>\n",
       "<p>\n",
       "  If you're reading this message in the Jupyter Notebook or JupyterLab Notebook, it may mean\n",
       "  that the widgets JavaScript is still loading. If this message persists, it\n",
       "  likely means that the widgets JavaScript library is either not installed or\n",
       "  not enabled. See the <a href=\"https://ipywidgets.readthedocs.io/en/stable/user_install.html\">Jupyter\n",
       "  Widgets Documentation</a> for setup instructions.\n",
       "</p>\n",
       "<p>\n",
       "  If you're reading this message in another frontend (for example, a static\n",
       "  rendering on GitHub or <a href=\"https://nbviewer.jupyter.org/\">NBViewer</a>),\n",
       "  it may mean that your frontend doesn't currently support widgets.\n",
       "</p>\n"
      ],
      "text/plain": [
       "A Jupyter Widget"
      ]
     },
     "execution_count": 89,
     "metadata": {},
     "output_type": "execute_result"
    }
   ],
   "source": [
    "(show *agg*)"
   ]
  },
  {
   "cell_type": "code",
   "execution_count": 90,
   "metadata": {},
   "outputs": [
    {
     "name": "stdout",
     "output_type": "stream",
     "text": [
      "minimize-no-fail\n",
      "======= Starting Steepest Descent Minimizer\n",
      "DONE absolute force test:\n",
      "forceRmsMag(507.021894).LT.forceTolerance(5000.000000)\n",
      "======= Starting Conjugate Gradient Minimizer\n",
      "---Stage-Seconds--Step-log(Alpha)--Dir-------------Energy-----------RMSforce\n",
      " minCGnP       0     1      -inf   0.0              0.000            507.022\n",
      "DONE absolute force test:\n",
      "forceRmsMag(0.000000).LT.forceTolerance(0.500000)\n",
      "minimize-no-fail\n",
      "======= Starting Steepest Descent Minimizer\n",
      "DONE absolute force test:\n",
      "forceRmsMag(0.000000).LT.forceTolerance(5000.000000)\n",
      "======= Starting Conjugate Gradient Minimizer\n",
      "DONE absolute force test:\n",
      "forceRmsMag(0.000000).LT.forceTolerance(0.500000)\n"
     ]
    },
    {
     "data": {
      "text/plain": [
       "#<ENERGY-FUNCTION >"
      ]
     },
     "execution_count": 90,
     "metadata": {},
     "output_type": "execute_result"
    }
   ],
   "source": [
    "(minimize *agg*)"
   ]
  },
  {
   "cell_type": "code",
   "execution_count": 91,
   "metadata": {},
   "outputs": [
    {
     "data": {
      "application/vnd.jupyter.widget-view+json": {
       "model_id": "2764427F-7487-4879-B382-3DDEBC67C69A",
       "version_major": 2,
       "version_minor": 0
      },
      "text/html": [
       "<p>Failed to display Jupyter Widget of type <code>{widget_type}</code>.</p>\n",
       "<p>\n",
       "  If you're reading this message in the Jupyter Notebook or JupyterLab Notebook, it may mean\n",
       "  that the widgets JavaScript is still loading. If this message persists, it\n",
       "  likely means that the widgets JavaScript library is either not installed or\n",
       "  not enabled. See the <a href=\"https://ipywidgets.readthedocs.io/en/stable/user_install.html\">Jupyter\n",
       "  Widgets Documentation</a> for setup instructions.\n",
       "</p>\n",
       "<p>\n",
       "  If you're reading this message in another frontend (for example, a static\n",
       "  rendering on GitHub or <a href=\"https://nbviewer.jupyter.org/\">NBViewer</a>),\n",
       "  it may mean that your frontend doesn't currently support widgets.\n",
       "</p>\n"
      ],
      "text/plain": [
       "A Jupyter Widget"
      ]
     },
     "execution_count": 91,
     "metadata": {},
     "output_type": "execute_result"
    }
   ],
   "source": [
    "(show *agg*)"
   ]
  },
  {
   "cell_type": "code",
   "execution_count": 92,
   "metadata": {},
   "outputs": [
    {
     "data": {
      "text/plain": [
       "ADD-ATOM"
      ]
     },
     "execution_count": 92,
     "metadata": {},
     "output_type": "execute_result"
    }
   ],
   "source": [
    "(defun add-atom (residue old-atom atom-name element)\n",
    "    (let ((x (chem:make-atom atom-name element)))\n",
    "         (chem:add-matter residue x)\n",
    "         (when old-atom\n",
    "             (chem:bond-to old-atom x :single-bond))\n",
    "         x))"
   ]
  },
  {
   "cell_type": "code",
   "execution_count": 93,
   "metadata": {},
   "outputs": [
    {
     "data": {
      "text/plain": [
       "*NR*"
      ]
     },
     "execution_count": 93,
     "metadata": {},
     "output_type": "execute_result"
    }
   ],
   "source": [
    "(:= *nr* (chem:make-residue :r2))"
   ]
  },
  {
   "cell_type": "code",
   "execution_count": 94,
   "metadata": {},
   "outputs": [
    {
     "data": {
      "text/plain": [
       "*X1*"
      ]
     },
     "execution_count": 94,
     "metadata": {},
     "output_type": "execute_result"
    }
   ],
   "source": [
    "(:= *x1* (add-atom *nr* nil :c1 :c))"
   ]
  },
  {
   "cell_type": "code",
   "execution_count": 95,
   "metadata": {},
   "outputs": [
    {
     "data": {
      "text/plain": [
       "*X2*"
      ]
     },
     "execution_count": 95,
     "metadata": {},
     "output_type": "execute_result"
    }
   ],
   "source": [
    "(:= *x2* (add-atom *nr* *x1* :c2 :c))"
   ]
  },
  {
   "cell_type": "code",
   "execution_count": 96,
   "metadata": {},
   "outputs": [
    {
     "data": {
      "text/plain": [
       "*X3*"
      ]
     },
     "execution_count": 96,
     "metadata": {},
     "output_type": "execute_result"
    }
   ],
   "source": [
    "(:= *x3* (add-atom *nr* *x2* :c3 :c))"
   ]
  },
  {
   "cell_type": "code",
   "execution_count": 97,
   "metadata": {},
   "outputs": [
    {
     "data": {
      "text/plain": [
       "*X4*"
      ]
     },
     "execution_count": 97,
     "metadata": {},
     "output_type": "execute_result"
    }
   ],
   "source": [
    "(:= *x4* (add-atom *nr* *x3* :c4 :c))"
   ]
  },
  {
   "cell_type": "code",
   "execution_count": 98,
   "metadata": {},
   "outputs": [
    {
     "data": {
      "text/plain": [
       "NIL"
      ]
     },
     "execution_count": 98,
     "metadata": {},
     "output_type": "execute_result"
    }
   ],
   "source": [
    "(:= *xm* (chem:make-molecule :m))\n",
    "(chem:add-matter *xm* *nr*)\n",
    "(:= *xagg* (chem:make-aggregate :a))\n",
    "(chem:add-matter *xagg* *xm*)"
   ]
  },
  {
   "cell_type": "code",
   "execution_count": 99,
   "metadata": {},
   "outputs": [
    {
     "data": {
      "text/plain": [
       "NIL"
      ]
     },
     "execution_count": 99,
     "metadata": {},
     "output_type": "execute_result"
    }
   ],
   "source": [
    "(jostle *xagg*)"
   ]
  },
  {
   "cell_type": "code",
   "execution_count": 100,
   "metadata": {},
   "outputs": [
    {
     "data": {
      "application/vnd.jupyter.widget-view+json": {
       "model_id": "FE5DAA54-0EA0-43A6-B259-17289CD8BC1A",
       "version_major": 2,
       "version_minor": 0
      },
      "text/html": [
       "<p>Failed to display Jupyter Widget of type <code>{widget_type}</code>.</p>\n",
       "<p>\n",
       "  If you're reading this message in the Jupyter Notebook or JupyterLab Notebook, it may mean\n",
       "  that the widgets JavaScript is still loading. If this message persists, it\n",
       "  likely means that the widgets JavaScript library is either not installed or\n",
       "  not enabled. See the <a href=\"https://ipywidgets.readthedocs.io/en/stable/user_install.html\">Jupyter\n",
       "  Widgets Documentation</a> for setup instructions.\n",
       "</p>\n",
       "<p>\n",
       "  If you're reading this message in another frontend (for example, a static\n",
       "  rendering on GitHub or <a href=\"https://nbviewer.jupyter.org/\">NBViewer</a>),\n",
       "  it may mean that your frontend doesn't currently support widgets.\n",
       "</p>\n"
      ],
      "text/plain": [
       "A Jupyter Widget"
      ]
     },
     "execution_count": 100,
     "metadata": {},
     "output_type": "execute_result"
    }
   ],
   "source": [
    "(show *xagg*)"
   ]
  },
  {
   "cell_type": "code",
   "execution_count": 101,
   "metadata": {},
   "outputs": [
    {
     "data": {
      "text/plain": [
       "NIL"
      ]
     },
     "execution_count": 101,
     "metadata": {},
     "output_type": "execute_result"
    }
   ],
   "source": [
    "(chem:fill-in-implicit-hydrogens *xagg*)"
   ]
  },
  {
   "cell_type": "code",
   "execution_count": 102,
   "metadata": {},
   "outputs": [
    {
     "data": {
      "text/plain": [
       "NIL"
      ]
     },
     "execution_count": 102,
     "metadata": {},
     "output_type": "execute_result"
    }
   ],
   "source": [
    "(jostle *xagg*)"
   ]
  },
  {
   "cell_type": "code",
   "execution_count": 103,
   "metadata": {},
   "outputs": [
    {
     "data": {
      "application/vnd.jupyter.widget-view+json": {
       "model_id": "C3DD696C-A7C5-4F5A-951E-96ACF90FDCD2",
       "version_major": 2,
       "version_minor": 0
      },
      "text/html": [
       "<p>Failed to display Jupyter Widget of type <code>{widget_type}</code>.</p>\n",
       "<p>\n",
       "  If you're reading this message in the Jupyter Notebook or JupyterLab Notebook, it may mean\n",
       "  that the widgets JavaScript is still loading. If this message persists, it\n",
       "  likely means that the widgets JavaScript library is either not installed or\n",
       "  not enabled. See the <a href=\"https://ipywidgets.readthedocs.io/en/stable/user_install.html\">Jupyter\n",
       "  Widgets Documentation</a> for setup instructions.\n",
       "</p>\n",
       "<p>\n",
       "  If you're reading this message in another frontend (for example, a static\n",
       "  rendering on GitHub or <a href=\"https://nbviewer.jupyter.org/\">NBViewer</a>),\n",
       "  it may mean that your frontend doesn't currently support widgets.\n",
       "</p>\n"
      ],
      "text/plain": [
       "A Jupyter Widget"
      ]
     },
     "execution_count": 103,
     "metadata": {},
     "output_type": "execute_result"
    }
   ],
   "source": [
    "(show *xagg*)"
   ]
  },
  {
   "cell_type": "code",
   "execution_count": 104,
   "metadata": {},
   "outputs": [
    {
     "name": "stdout",
     "output_type": "stream",
     "text": [
      "minimize-no-fail\n",
      "======= Starting Steepest Descent Minimizer\n",
      "---Stage-Seconds--Step-log(Alpha)--Dir-------------Energy-----------RMSforce\n",
      " minSDnP       0     1      -inf   0.0              0.000          15140.219\n",
      "DONE absolute force test:\n",
      "forceRmsMag(2632.518069).LT.forceTolerance(5000.000000)\n",
      "======= Starting Conjugate Gradient Minimizer\n",
      " minCGnP       0     2      -inf   0.0              0.000           2632.518\n",
      " minCGnP       0     3     -7.06  38.2          65765.888           2069.090\n",
      " minCGnP       0     4     -7.30  22.5           9938.336            715.563\n",
      " minCGnP       0     5     -7.47  27.1           3869.933            326.769\n",
      " minCGnP       0     6     -7.27  40.0           2305.791            230.209\n",
      " minCGnP       0     7     -6.86  50.5           1256.162            181.775\n",
      " minCGnP       0     8     -6.91  45.0            561.295            105.313\n",
      " minCGnP       0     9     -6.79  42.7            300.457             68.897\n",
      " minCGnP       0    10     -6.92  41.1            203.288             46.111\n",
      "---Stage-Seconds--Step-log(Alpha)--Dir-------------Energy-----------RMSforce\n",
      " minCGnP       0    11     -6.66  48.3            146.392             38.624\n",
      " minCGnP       0    12     -6.86  36.0            112.344             26.099\n",
      " minCGnP       0    13     -6.52  48.0             91.275             24.304\n",
      " minCGnP       0    14     -6.70  50.0             76.236             19.314\n",
      " minCGnP       0    15     -6.32  61.6             61.869             22.093\n",
      " minCGnP       0    16     -6.50  54.3             44.885             19.862\n",
      " minCGnP       0    17     -6.77  48.6             35.362             15.664\n",
      " minCGnP       0    18     -6.44  54.1             27.208             14.661\n",
      " minCGnP       0    19     -6.61  52.0             21.066             11.932\n",
      " minCGnP       0    20     -6.45  55.2             16.347             10.606\n",
      "---Stage-Seconds--Step-log(Alpha)--Dir-------------Energy-----------RMSforce\n",
      " minCGnP       0    21     -6.53  52.4             12.908              7.427\n",
      " minCGnP       0    22     -6.39  57.9             10.975              7.006\n",
      " minCGnP       0    23     -6.34  60.5              9.142              6.452\n",
      " minCGnP       0    24     -6.65  56.0              8.016              4.854\n",
      " minCGnP       0    25     -6.51  56.6              7.272              4.161\n",
      " minCGnP       0    26     -6.35  58.2              6.637              3.725\n",
      " minCGnP       0    27     -6.57  59.4              6.227              3.345\n",
      " minCGnP       0    28     -6.27  62.9              5.786              3.307\n",
      " minCGnP       0    29     -6.45  61.2              5.424              2.726\n",
      " minCGnP       0    30     -6.32  65.4              5.144              2.865\n",
      "---Stage-Seconds--Step-log(Alpha)--Dir-------------Energy-----------RMSforce\n",
      " minCGnP       0    31     -6.57  61.8              4.902              2.277\n",
      " minCGnP       0    32     -6.29  66.3              4.700              2.471\n",
      " minCGnP       0    33     -6.30  64.7              4.466              2.092\n",
      " minCGnP       0    34     -6.43  67.3              4.318              2.124\n",
      " minCGnP       0    35     -6.30  68.1              4.144              2.015\n",
      " minCGnP       0    36     -6.64  65.2              4.033              1.636\n",
      " minCGnP       0    37     -6.23  66.2              3.922              1.564\n",
      " minCGnP       0    38     -6.46  65.6              3.842              1.401\n",
      " minCGnP       0    39     -6.34  67.2              3.769              1.390\n",
      " minCGnP       0    40     -6.62  61.8              3.715              1.002\n",
      "---Stage-Seconds--Step-log(Alpha)--Dir-------------Energy-----------RMSforce\n",
      " minCGnP       0    41     -6.54  61.5              3.685              0.871\n",
      " minCGnP       0    42     -6.40  61.2              3.658              0.751\n",
      " minCGnP       0    43     -6.26  66.1              3.636              0.817\n",
      " minCGnP       0    44     -6.08   0.0              3.604              1.079\n",
      " minCGnP       0    45     -7.10  35.6              3.583              0.773\n",
      " minCGnP       0    46     -5.83  51.2              3.547              0.782\n",
      " minCGnP       0    47     -6.56  55.5              3.528              0.712\n",
      " minCGnP       0    48     -5.98  67.0              3.502              0.950\n",
      " minCGnP       0    49     -5.71  72.3              3.438              1.183\n",
      " minCGnP       0    50     -6.29  75.5              3.384              1.398\n",
      "---Stage-Seconds--Step-log(Alpha)--Dir-------------Energy-----------RMSforce\n",
      " minCGnP       0    51     -5.65  79.6              3.239              1.873\n",
      " minCGnP       0    52     -6.39  78.5              3.113              1.770\n",
      " minCGnP       0    53     -6.08  80.7              2.956              2.373\n",
      " minCGnP       0    54     -6.39  71.3              2.745              2.056\n",
      " minCGnP       0    55     -5.66  76.7              2.452              2.707\n",
      " minCGnP       0    56     -6.69  75.3              2.259              2.175\n",
      " minCGnP       0    57     -6.19  70.7              2.054              1.747\n",
      " minCGnP       0    58     -6.52  72.3              1.960              1.842\n",
      " minCGnP       0    59     -6.01  70.7              1.782              1.674\n",
      " minCGnP       0    60     -6.38  73.3              1.683              1.849\n",
      "---Stage-Seconds--Step-log(Alpha)--Dir-------------Energy-----------RMSforce\n",
      " minCGnP       0    61     -5.95  74.9              1.497              1.847\n",
      " minCGnP       0    62     -6.55  74.3              1.395              1.691\n",
      " minCGnP       0    63     -6.13  77.3              1.265              2.010\n",
      " minCGnP       0    64     -6.38  74.2              1.122              1.509\n",
      " minCGnP       0    65     -6.06  74.5              1.009              1.537\n",
      " minCGnP       0    66     -6.77  72.2              0.952              1.337\n",
      " minCGnP       0    67     -5.90  69.5              0.850              1.092\n",
      " minCGnP       0    68     -7.01  60.9              0.828              0.660\n",
      " minCGnP       0    69     -5.75  68.9              0.799              0.832\n",
      " minCGnP       0    70     -6.47  67.7              0.776              0.734\n",
      "---Stage-Seconds--Step-log(Alpha)--Dir-------------Energy-----------RMSforce\n",
      " minCGnP       0    71     -6.43  64.5              0.758              0.589\n",
      " minCGnP       0    72     -6.39  67.1              0.745              0.600\n",
      " minCGnP       0    73     -6.47  65.2              0.734              0.504\n",
      "DONE absolute force test:\n",
      "forceRmsMag(0.410113).LT.forceTolerance(0.500000)\n",
      "minimize-no-fail\n",
      "======= Starting Steepest Descent Minimizer\n",
      "DONE absolute force test:\n",
      "forceRmsMag(2.428364).LT.forceTolerance(5000.000000)\n",
      "======= Starting Conjugate Gradient Minimizer\n",
      " minCGnP       0    74      -inf   0.0              0.000              2.428\n",
      " minCGnP       0    75     -5.70  55.6              2.792              3.551\n",
      " minCGnP       0    76     -6.67  50.8              2.462              1.941\n",
      " minCGnP       0    77     -6.35  61.9              2.324              2.248\n",
      " minCGnP       0    78     -6.20  65.8              2.109              2.327\n",
      " minCGnP       0    79     -6.48  56.4              1.934              1.405\n",
      " minCGnP       0    80     -6.43  59.8              1.867              1.329\n",
      "---Stage-Seconds--Step-log(Alpha)--Dir-------------Energy-----------RMSforce\n",
      " minCGnP       0    81     -6.56  56.4              1.815              0.992\n",
      " minCGnP       0    82     -6.60  54.4              1.787              0.764\n",
      " minCGnP       0    83     -6.56  55.2              1.769              0.639\n",
      "DONE absolute force test:\n",
      "forceRmsMag(0.432243).LT.forceTolerance(0.500000)\n"
     ]
    },
    {
     "data": {
      "text/plain": [
       "#<ENERGY-FUNCTION >"
      ]
     },
     "execution_count": 104,
     "metadata": {},
     "output_type": "execute_result"
    }
   ],
   "source": [
    "(minimize *xagg*)"
   ]
  },
  {
   "cell_type": "code",
   "execution_count": 105,
   "metadata": {},
   "outputs": [
    {
     "data": {
      "application/vnd.jupyter.widget-view+json": {
       "model_id": "AE6FAF23-6A64-48FC-89FA-BD1DA3FE2F35",
       "version_major": 2,
       "version_minor": 0
      },
      "text/html": [
       "<p>Failed to display Jupyter Widget of type <code>{widget_type}</code>.</p>\n",
       "<p>\n",
       "  If you're reading this message in the Jupyter Notebook or JupyterLab Notebook, it may mean\n",
       "  that the widgets JavaScript is still loading. If this message persists, it\n",
       "  likely means that the widgets JavaScript library is either not installed or\n",
       "  not enabled. See the <a href=\"https://ipywidgets.readthedocs.io/en/stable/user_install.html\">Jupyter\n",
       "  Widgets Documentation</a> for setup instructions.\n",
       "</p>\n",
       "<p>\n",
       "  If you're reading this message in another frontend (for example, a static\n",
       "  rendering on GitHub or <a href=\"https://nbviewer.jupyter.org/\">NBViewer</a>),\n",
       "  it may mean that your frontend doesn't currently support widgets.\n",
       "</p>\n"
      ],
      "text/plain": [
       "A Jupyter Widget"
      ]
     },
     "execution_count": 105,
     "metadata": {},
     "output_type": "execute_result"
    }
   ],
   "source": [
    "(show *xagg*)"
   ]
  },
  {
   "cell_type": "code",
   "execution_count": 110,
   "metadata": {},
   "outputs": [
    {
     "name": "stdout",
     "output_type": "stream",
     "text": [
      "\n",
      "#<ATOM :C1/:C> \n",
      "#<ATOM :C2/:C> \n",
      "#<ATOM :C3/:C> \n",
      "#<ATOM :C4/:C> \n",
      "#<ATOM :H11/:H> \n",
      "#<ATOM :H12/:H> \n",
      "#<ATOM :H13/:H> \n",
      "#<ATOM :H21/:H> \n",
      "#<ATOM :H22/:H> \n",
      "#<ATOM :H31/:H> \n",
      "#<ATOM :H32/:H> \n",
      "#<ATOM :H41/:H> \n",
      "#<ATOM :H42/:H> "
     ]
    },
    {
     "data": {
      "text/plain": [
       "NIL"
      ]
     },
     "execution_count": 110,
     "metadata": {},
     "output_type": "execute_result"
    }
   ],
   "source": [
    "(do-atoms (a *xagg*) (print a))"
   ]
  },
  {
   "cell_type": "code",
   "execution_count": 109,
   "metadata": {},
   "outputs": [
    {
     "data": {
      "text/plain": [
       "NIL"
      ]
     },
     "execution_count": 109,
     "metadata": {},
     "output_type": "execute_result"
    }
   ],
   "source": [
    "(chem:remove-atoms-with-names *nr* '(:h43))"
   ]
  },
  {
   "cell_type": "code",
   "execution_count": 111,
   "metadata": {},
   "outputs": [
    {
     "data": {
      "text/plain": [
       "#<ATOM :N1/:N>"
      ]
     },
     "execution_count": 111,
     "metadata": {},
     "output_type": "execute_result"
    }
   ],
   "source": [
    "(add-atom *nr* *x4* :n1 :n)"
   ]
  },
  {
   "cell_type": "code",
   "execution_count": 116,
   "metadata": {},
   "outputs": [
    {
     "data": {
      "text/plain": [
       "NIL"
      ]
     },
     "execution_count": 116,
     "metadata": {},
     "output_type": "execute_result"
    }
   ],
   "source": [
    "(jostle *xagg*)"
   ]
  },
  {
   "cell_type": "code",
   "execution_count": 117,
   "metadata": {},
   "outputs": [
    {
     "data": {
      "application/vnd.jupyter.widget-view+json": {
       "model_id": "ACABD357-0267-4107-88DA-1FDBCF0B10FC",
       "version_major": 2,
       "version_minor": 0
      },
      "text/html": [
       "<p>Failed to display Jupyter Widget of type <code>{widget_type}</code>.</p>\n",
       "<p>\n",
       "  If you're reading this message in the Jupyter Notebook or JupyterLab Notebook, it may mean\n",
       "  that the widgets JavaScript is still loading. If this message persists, it\n",
       "  likely means that the widgets JavaScript library is either not installed or\n",
       "  not enabled. See the <a href=\"https://ipywidgets.readthedocs.io/en/stable/user_install.html\">Jupyter\n",
       "  Widgets Documentation</a> for setup instructions.\n",
       "</p>\n",
       "<p>\n",
       "  If you're reading this message in another frontend (for example, a static\n",
       "  rendering on GitHub or <a href=\"https://nbviewer.jupyter.org/\">NBViewer</a>),\n",
       "  it may mean that your frontend doesn't currently support widgets.\n",
       "</p>\n"
      ],
      "text/plain": [
       "A Jupyter Widget"
      ]
     },
     "execution_count": 117,
     "metadata": {},
     "output_type": "execute_result"
    }
   ],
   "source": [
    "(show *xagg*)"
   ]
  },
  {
   "cell_type": "code",
   "execution_count": 114,
   "metadata": {},
   "outputs": [
    {
     "data": {
      "text/plain": [
       "NIL"
      ]
     },
     "execution_count": 114,
     "metadata": {},
     "output_type": "execute_result"
    }
   ],
   "source": [
    "(chem:fill-in-implicit-hydrogens *xagg*)"
   ]
  },
  {
   "cell_type": "code",
   "execution_count": 115,
   "metadata": {},
   "outputs": [
    {
     "data": {
      "application/vnd.jupyter.widget-view+json": {
       "model_id": "2B9AF535-7C9E-44D6-A424-C63CA8B26E33",
       "version_major": 2,
       "version_minor": 0
      },
      "text/html": [
       "<p>Failed to display Jupyter Widget of type <code>{widget_type}</code>.</p>\n",
       "<p>\n",
       "  If you're reading this message in the Jupyter Notebook or JupyterLab Notebook, it may mean\n",
       "  that the widgets JavaScript is still loading. If this message persists, it\n",
       "  likely means that the widgets JavaScript library is either not installed or\n",
       "  not enabled. See the <a href=\"https://ipywidgets.readthedocs.io/en/stable/user_install.html\">Jupyter\n",
       "  Widgets Documentation</a> for setup instructions.\n",
       "</p>\n",
       "<p>\n",
       "  If you're reading this message in another frontend (for example, a static\n",
       "  rendering on GitHub or <a href=\"https://nbviewer.jupyter.org/\">NBViewer</a>),\n",
       "  it may mean that your frontend doesn't currently support widgets.\n",
       "</p>\n"
      ],
      "text/plain": [
       "A Jupyter Widget"
      ]
     },
     "execution_count": 115,
     "metadata": {},
     "output_type": "execute_result"
    }
   ],
   "source": [
    "(show *xagg*)"
   ]
  },
  {
   "cell_type": "code",
   "execution_count": 118,
   "metadata": {
    "scrolled": false
   },
   "outputs": [
    {
     "name": "stdout",
     "output_type": "stream",
     "text": [
      "minimize-no-fail\n",
      "======= Starting Steepest Descent Minimizer\n",
      "---Stage-Seconds--Step-log(Alpha)--Dir-------------Energy-----------RMSforce\n",
      " minSDnP       0     1      -inf   0.0              0.000          12278.965\n",
      "DONE absolute force test:\n",
      "forceRmsMag(2670.264816).LT.forceTolerance(5000.000000)\n",
      "======= Starting Conjugate Gradient Minimizer\n",
      " minCGnP       0     2      -inf   0.0              0.000           2670.265\n",
      " minCGnP       0     3     -7.42  32.4          60103.754           1696.369\n",
      " minCGnP       0     4     -7.26  35.2          12657.809            809.672\n",
      " minCGnP       0     5     -7.38  26.8           2938.826            283.130\n",
      " minCGnP       0     6     -7.22  33.4           1438.825            137.837\n",
      " minCGnP       0     7     -7.07  40.6           1051.244            115.346\n",
      " minCGnP       0     8     -6.78  48.8            687.920             98.685\n",
      " minCGnP       0     9     -6.90  48.9            454.423             81.972\n",
      " minCGnP       0    10     -6.75  37.9            266.733             41.928\n",
      "---Stage-Seconds--Step-log(Alpha)--Dir-------------Energy-----------RMSforce\n",
      " minCGnP       0    11     -6.90  44.7            224.579             30.771\n",
      " minCGnP       0    12     -6.64  50.0            194.772             25.378\n",
      " minCGnP       0    13     -6.78  53.3            177.315             22.096\n",
      " minCGnP       0    14     -6.19  65.3            153.948             27.611\n",
      " minCGnP       0    15     -6.84  50.7            131.971             23.955\n",
      " minCGnP       0    16     -6.90  50.2            118.079             19.473\n",
      " minCGnP       0    17     -6.10  63.0             98.509             24.487\n",
      " minCGnP       0    18     -6.52  64.3             77.448             21.017\n",
      " minCGnP       0    19     -6.66  54.3             62.632             18.609\n",
      " minCGnP       0    20     -6.57  53.9             51.011             16.696\n",
      "---Stage-Seconds--Step-log(Alpha)--Dir-------------Energy-----------RMSforce\n",
      " minCGnP       0    21     -6.50  54.4             40.842             13.537\n",
      " minCGnP       0    22     -6.43  52.7             33.689             10.650\n",
      " minCGnP       0    23     -6.53  56.1             29.768              9.222\n",
      " minCGnP       0    24     -6.37  60.6             26.326              9.012\n",
      " minCGnP       0    25     -6.29  64.3             22.693              8.841\n",
      " minCGnP       0    26     -6.36  68.2             19.376             10.247\n",
      " minCGnP       0    27     -6.13  65.8             13.795              9.726\n",
      " minCGnP       0    28     -6.54  64.7             10.551              8.342\n",
      " minCGnP       0    29     -6.48  61.8              7.974              6.321\n",
      " minCGnP       0    30     -6.47  63.9              6.482              6.243\n",
      "---Stage-Seconds--Step-log(Alpha)--Dir-------------Energy-----------RMSforce\n",
      " minCGnP       0    31     -6.38  63.5              4.911              5.413\n",
      " minCGnP       0    32     -6.59  55.5              3.946              3.665\n",
      " minCGnP       0    33     -6.52  54.5              3.469              2.903\n",
      " minCGnP       0    34     -6.57  57.3              3.184              2.622\n",
      " minCGnP       0    35     -6.15  59.9              2.834              2.421\n",
      " minCGnP       0    36     -6.63  61.0              2.648              2.181\n",
      " minCGnP       0    37     -5.99  63.8              2.361              2.123\n",
      " minCGnP       0    38     -6.82  57.9              2.243              1.486\n",
      " minCGnP       0    39     -6.23  62.8              2.138              1.543\n",
      " minCGnP       0    40     -6.18  66.2              2.020              1.620\n",
      "---Stage-Seconds--Step-log(Alpha)--Dir-------------Energy-----------RMSforce\n",
      " minCGnP       0    41     -6.55  64.5              1.931              1.364\n",
      " minCGnP       0    42     -6.44  62.9              1.860              1.147\n",
      " minCGnP       0    43     -6.42  62.1              1.808              0.969\n",
      " minCGnP       0    44     -6.26  68.7              1.765              1.156\n",
      " minCGnP       0    45     -6.33  68.0              1.708              1.035\n",
      " minCGnP       0    46     -6.45  70.6              1.667              1.119\n",
      " minCGnP       0    47     -5.60  75.9              1.556              1.499\n",
      " minCGnP       0    48     -6.35  76.6              1.462              1.521\n",
      " minCGnP       0    49     -6.75  70.7              1.397              1.009\n",
      " minCGnP       0    50     -6.19   0.0              1.347              1.120\n",
      "---Stage-Seconds--Step-log(Alpha)--Dir-------------Energy-----------RMSforce\n",
      " minCGnP       0    51     -7.13  32.1              1.323              0.704\n",
      " minCGnP       0    52     -5.90  56.0              1.290              0.886\n",
      " minCGnP       0    53     -6.54  55.1              1.263              0.711\n",
      " minCGnP       0    54     -6.33  58.4              1.241              0.658\n",
      " minCGnP       0    55     -6.40  61.7              1.224              0.640\n",
      " minCGnP       0    56     -5.85  70.2              1.196              0.846\n",
      " minCGnP       0    57     -6.37  71.9              1.167              0.865\n",
      " minCGnP       0    58     -5.91  75.8              1.117              1.069\n",
      " minCGnP       0    59     -6.55  73.8              1.077              0.986\n",
      " minCGnP       0    60     -5.66  77.8              0.998              1.258\n",
      "---Stage-Seconds--Step-log(Alpha)--Dir-------------Energy-----------RMSforce\n",
      " minCGnP       0    61     -6.88  69.4              0.959              0.633\n",
      " minCGnP       0    62     -6.59  70.9              0.946              0.640\n",
      " minCGnP       0    63     -5.48  74.6              0.905              0.750\n",
      " minCGnP       0    64     -6.78  72.6              0.890              0.632\n",
      " minCGnP       0    65     -5.54  77.4              0.852              0.855\n",
      " minCGnP       0    66     -6.74  73.8              0.831              0.667\n",
      " minCGnP       0    67     -6.28  75.3              0.811              0.702\n",
      " minCGnP       0    68     -6.16  75.4              0.786              0.661\n",
      " minCGnP       0    69     -6.29  76.1              0.767              0.666\n",
      " minCGnP       0    70     -6.40  75.6              0.749              0.630\n",
      "---Stage-Seconds--Step-log(Alpha)--Dir-------------Energy-----------RMSforce\n",
      " minCGnP       0    71     -6.28  76.7              0.731              0.679\n",
      " minCGnP       0    72     -6.10  79.5              0.706              0.852\n",
      " minCGnP       0    73     -6.18  78.6              0.670              0.765\n",
      " minCGnP       0    74     -6.60  76.3              0.651              0.597\n",
      " minCGnP       0    75     -6.45  75.7              0.638              0.553\n",
      " minCGnP       0    76     -5.79  77.3              0.615              0.606\n",
      "DONE absolute force test:\n",
      "forceRmsMag(0.328441).LT.forceTolerance(0.500000)\n",
      "minimize-no-fail\n",
      "======= Starting Steepest Descent Minimizer\n",
      "DONE absolute force test:\n",
      "forceRmsMag(3.009565).LT.forceTolerance(5000.000000)\n",
      "======= Starting Conjugate Gradient Minimizer\n",
      " minCGnP       0    77      -inf   0.0              0.000              3.010\n",
      " minCGnP       0    78     -5.83  53.5              3.356              4.063\n",
      " minCGnP       0    79     -6.62  51.1              2.839              2.322\n",
      " minCGnP       0    80     -6.38  62.2              2.621              2.688\n",
      "---Stage-Seconds--Step-log(Alpha)--Dir-------------Energy-----------RMSforce\n",
      " minCGnP       0    81     -6.18  64.2              2.263              2.503\n",
      " minCGnP       0    82     -6.67  57.1              2.073              1.666\n",
      " minCGnP       0    83     -6.26  62.3              1.946              1.713\n",
      " minCGnP       0    84     -6.58  59.2              1.848              1.320\n",
      " minCGnP       0    85     -6.73  50.7              1.798              0.820\n",
      " minCGnP       0    86     -6.51  57.9              1.774              0.825\n",
      " minCGnP       0    87     -6.39  57.1              1.746              0.676\n",
      "DONE absolute force test:\n",
      "forceRmsMag(0.474222).LT.forceTolerance(0.500000)\n"
     ]
    },
    {
     "data": {
      "text/plain": [
       "#<ENERGY-FUNCTION >"
      ]
     },
     "execution_count": 118,
     "metadata": {},
     "output_type": "execute_result"
    }
   ],
   "source": [
    "(minimize *xagg*)"
   ]
  },
  {
   "cell_type": "code",
   "execution_count": 119,
   "metadata": {},
   "outputs": [
    {
     "data": {
      "application/vnd.jupyter.widget-view+json": {
       "model_id": "B3C8B985-B463-43AB-A345-72E00C61812D",
       "version_major": 2,
       "version_minor": 0
      },
      "text/html": [
       "<p>Failed to display Jupyter Widget of type <code>{widget_type}</code>.</p>\n",
       "<p>\n",
       "  If you're reading this message in the Jupyter Notebook or JupyterLab Notebook, it may mean\n",
       "  that the widgets JavaScript is still loading. If this message persists, it\n",
       "  likely means that the widgets JavaScript library is either not installed or\n",
       "  not enabled. See the <a href=\"https://ipywidgets.readthedocs.io/en/stable/user_install.html\">Jupyter\n",
       "  Widgets Documentation</a> for setup instructions.\n",
       "</p>\n",
       "<p>\n",
       "  If you're reading this message in another frontend (for example, a static\n",
       "  rendering on GitHub or <a href=\"https://nbviewer.jupyter.org/\">NBViewer</a>),\n",
       "  it may mean that your frontend doesn't currently support widgets.\n",
       "</p>\n"
      ],
      "text/plain": [
       "A Jupyter Widget"
      ]
     },
     "execution_count": 119,
     "metadata": {},
     "output_type": "execute_result"
    }
   ],
   "source": [
    "(show *xagg*)"
   ]
  },
  {
   "cell_type": "code",
   "execution_count": 124,
   "metadata": {},
   "outputs": [
    {
     "data": {
      "text/plain": [
       "NIL"
      ]
     },
     "execution_count": 124,
     "metadata": {},
     "output_type": "execute_result"
    }
   ],
   "source": [
    "(jostle *xagg* 100.0)"
   ]
  },
  {
   "cell_type": "code",
   "execution_count": 125,
   "metadata": {},
   "outputs": [
    {
     "data": {
      "application/vnd.jupyter.widget-view+json": {
       "model_id": "9DFDC4E5-F92F-442E-BFD9-C6FE204582EB",
       "version_major": 2,
       "version_minor": 0
      },
      "text/html": [
       "<p>Failed to display Jupyter Widget of type <code>{widget_type}</code>.</p>\n",
       "<p>\n",
       "  If you're reading this message in the Jupyter Notebook or JupyterLab Notebook, it may mean\n",
       "  that the widgets JavaScript is still loading. If this message persists, it\n",
       "  likely means that the widgets JavaScript library is either not installed or\n",
       "  not enabled. See the <a href=\"https://ipywidgets.readthedocs.io/en/stable/user_install.html\">Jupyter\n",
       "  Widgets Documentation</a> for setup instructions.\n",
       "</p>\n",
       "<p>\n",
       "  If you're reading this message in another frontend (for example, a static\n",
       "  rendering on GitHub or <a href=\"https://nbviewer.jupyter.org/\">NBViewer</a>),\n",
       "  it may mean that your frontend doesn't currently support widgets.\n",
       "</p>\n"
      ],
      "text/plain": [
       "A Jupyter Widget"
      ]
     },
     "execution_count": 125,
     "metadata": {},
     "output_type": "execute_result"
    }
   ],
   "source": [
    "(show *xagg*)"
   ]
  },
  {
   "cell_type": "code",
   "execution_count": 126,
   "metadata": {
    "scrolled": false
   },
   "outputs": [
    {
     "name": "stdout",
     "output_type": "stream",
     "text": [
      "minimize-no-fail\n",
      "======= Starting Steepest Descent Minimizer\n",
      "---Stage-Seconds--Step-log(Alpha)--Dir-------------Energy-----------RMSforce\n",
      " minSDnP       0     1      -inf   0.0              0.000          48668.538\n",
      " minSDnP       0     2     -8.03   0.0        3790769.517          11756.423\n",
      " minSDnP       0     3     -7.53   0.0        2010768.653           9063.724\n",
      " minSDnP       0     4     -7.77   0.0        1179928.914           5885.300\n",
      "DONE absolute force test:\n",
      "forceRmsMag(4942.238583).LT.forceTolerance(5000.000000)\n",
      "======= Starting Conjugate Gradient Minimizer\n",
      " minCGnP       0     5      -inf   0.0              0.000           4942.239\n",
      " minCGnP       0     6     -7.74  34.3         482863.559           3366.594\n",
      " minCGnP       0     7     -6.52  29.1          98471.927           1193.269\n",
      " minCGnP       0     8     -7.21  46.5          74383.389           1045.869\n",
      " minCGnP       0     9     -6.51  53.6          38382.451            799.288\n",
      " minCGnP       0    10     -7.35  46.0          29152.602            459.843\n",
      "---Stage-Seconds--Step-log(Alpha)--Dir-------------Energy-----------RMSforce\n",
      " minCGnP       0    11     -6.53  58.9          21605.965            561.048\n",
      " minCGnP       0    12     -6.57  63.6          11112.912            611.864\n",
      " minCGnP       0    13     -6.92  55.4           3464.036            332.689\n",
      " minCGnP       0    14     -7.36  49.3           1762.348            208.850\n",
      " minCGnP       0    15     -6.89  38.3            768.826            106.761\n",
      " minCGnP       0    16     -6.84  45.3            487.575             82.675\n",
      " minCGnP       0    17     -7.12  46.2            355.807             57.024\n",
      " minCGnP       0    18     -6.46  52.1            237.441             50.501\n",
      " minCGnP       0    19     -6.96  51.6            178.689             38.372\n",
      " minCGnP       0    20     -6.78  47.1            138.612             27.851\n",
      "---Stage-Seconds--Step-log(Alpha)--Dir-------------Energy-----------RMSforce\n",
      " minCGnP       0    21     -6.81  47.4            117.835             21.362\n",
      " minCGnP       0    22     -6.28  61.8             97.283             27.074\n",
      " minCGnP       0    23     -6.76  54.8             76.201             21.054\n",
      " minCGnP       0    24     -6.62  53.8             61.840             19.440\n",
      " minCGnP       0    25     -6.47  55.6             47.254             18.080\n",
      " minCGnP       0    26     -6.63  52.8             36.721             16.166\n",
      " minCGnP       0    27     -6.65  48.1             28.624             11.424\n",
      " minCGnP       0    28     -6.46  56.6             23.695             11.959\n",
      " minCGnP       0    29     -6.58  51.2             18.970              7.921\n",
      " minCGnP       0    30     -6.35  57.9             16.283              8.074\n",
      "---Stage-Seconds--Step-log(Alpha)--Dir-------------Energy-----------RMSforce\n",
      " minCGnP       0    31     -6.09  56.8             12.857              6.984\n",
      " minCGnP       0    32     -6.71  55.6             11.427              5.521\n",
      " minCGnP       0    33     -6.25  59.9             10.002              5.609\n",
      " minCGnP       0    34     -6.73  55.2              9.098              4.081\n",
      " minCGnP       0    35     -6.06  63.7              8.172              4.718\n",
      " minCGnP       0    36     -6.33  64.0              7.214              4.210\n",
      " minCGnP       0    37     -6.67  58.1              6.675              3.082\n",
      " minCGnP       0    38     -6.25  64.1              6.236              3.373\n",
      " minCGnP       0    39     -6.45  58.7              5.805              2.448\n",
      " minCGnP       0    40     -6.10  66.5              5.483              2.914\n",
      "---Stage-Seconds--Step-log(Alpha)--Dir-------------Energy-----------RMSforce\n",
      " minCGnP       0    41     -6.50  61.6              5.176              2.148\n",
      " minCGnP       0    42     -6.50  63.1              5.009              2.018\n",
      " minCGnP       0    43     -6.20  66.0              4.809              2.053\n",
      " minCGnP       0    44     -6.60  63.4              4.671              1.677\n",
      " minCGnP       0    45     -6.21  65.1              4.535              1.608\n",
      " minCGnP       0    46     -6.51  63.3              4.443              1.347\n",
      " minCGnP       0    47     -6.20  63.3              4.355              1.207\n",
      " minCGnP       0    48     -6.67  63.8              4.311              1.105\n",
      " minCGnP       0    49     -6.16  62.0              4.249              0.922\n",
      " minCGnP       0    50     -6.36  67.9              4.214              1.068\n",
      "---Stage-Seconds--Step-log(Alpha)--Dir-------------Energy-----------RMSforce\n",
      " minCGnP       0    51     -5.69  74.8              4.121              1.489\n",
      " minCGnP       0    52     -6.31  76.7              4.023              1.679\n",
      " minCGnP       0    53     -6.20   0.0              3.884              1.971\n",
      " minCGnP       0    54     -7.02  36.8              3.801              1.473\n",
      " minCGnP       0    55     -6.12  52.1              3.686              1.517\n",
      " minCGnP       0    56     -6.35  54.6              3.589              1.302\n",
      " minCGnP       0    57     -6.69  53.9              3.538              1.032\n",
      " minCGnP       0    58     -5.75  63.3              3.456              1.213\n",
      " minCGnP       0    59     -6.38  65.2              3.397              1.184\n",
      " minCGnP       0    60     -6.13  71.6              3.323              1.489\n",
      "---Stage-Seconds--Step-log(Alpha)--Dir-------------Energy-----------RMSforce\n",
      " minCGnP       0    61     -6.19  74.1              3.214              1.641\n",
      " minCGnP       0    62     -5.42  80.9              2.935              2.742\n",
      " minCGnP       0    63     -6.61  79.4              2.681              2.473\n",
      " minCGnP       0    64     -6.42  74.9              2.431              2.298\n",
      " minCGnP       0    65     -6.01  75.5              2.114              2.609\n",
      " minCGnP       0    66     -6.56  72.5              1.884              2.077\n",
      " minCGnP       0    67     -6.47  71.3              1.725              1.693\n",
      " minCGnP       0    68     -6.11  76.0              1.573              2.108\n",
      " minCGnP       0    69     -6.62  69.5              1.430              1.392\n",
      " minCGnP       0    70     -6.16  73.0              1.331              1.621\n",
      "---Stage-Seconds--Step-log(Alpha)--Dir-------------Energy-----------RMSforce\n",
      " minCGnP       0    71     -6.49  70.8              1.236              1.400\n",
      " minCGnP       0    72     -6.37  69.3              1.155              1.219\n",
      " minCGnP       0    73     -6.29  71.9              1.088              1.327\n",
      " minCGnP       0    74     -6.66  65.6              1.035              0.891\n",
      " minCGnP       0    75     -6.28  68.6              0.999              0.932\n",
      " minCGnP       0    76     -6.33  69.0              0.962              0.882\n",
      " minCGnP       0    77     -6.48  64.3              0.933              0.666\n",
      " minCGnP       0    78     -6.43  68.6              0.916              0.739\n",
      " minCGnP       0    79     -6.02  73.4              0.884              0.893\n",
      "DONE absolute force test:\n",
      "forceRmsMag(0.493101).LT.forceTolerance(0.500000)\n",
      "minimize-no-fail\n",
      "======= Starting Steepest Descent Minimizer\n",
      "DONE absolute force test:\n",
      "forceRmsMag(1.767298).LT.forceTolerance(5000.000000)\n",
      "======= Starting Conjugate Gradient Minimizer\n",
      " minCGnP       0    80      -inf   0.0              0.000              1.767\n",
      "---Stage-Seconds--Step-log(Alpha)--Dir-------------Energy-----------RMSforce\n",
      " minCGnP       0    81     -6.38  51.4              2.721              2.212\n",
      " minCGnP       0    82     -6.04  56.8              2.443              2.038\n",
      " minCGnP       0    83     -6.84  50.5              2.336              1.326\n",
      " minCGnP       0    84     -6.18  62.3              2.249              1.601\n",
      " minCGnP       0    85     -6.18  64.1              2.121              1.526\n",
      " minCGnP       0    86     -6.47  60.6              2.035              1.172\n",
      " minCGnP       0    87     -6.06  67.4              1.958              1.375\n",
      " minCGnP       0    88     -6.75  54.1              1.905              0.712\n",
      " minCGnP       0    89     -6.61  54.5              1.888              0.583\n",
      "DONE absolute force test:\n",
      "forceRmsMag(0.394744).LT.forceTolerance(0.500000)\n"
     ]
    },
    {
     "data": {
      "text/plain": [
       "#<ENERGY-FUNCTION >"
      ]
     },
     "execution_count": 126,
     "metadata": {},
     "output_type": "execute_result"
    }
   ],
   "source": [
    "(minimize *xagg*)"
   ]
  },
  {
   "cell_type": "code",
   "execution_count": 127,
   "metadata": {},
   "outputs": [
    {
     "data": {
      "application/vnd.jupyter.widget-view+json": {
       "model_id": "6664671E-B658-4FE4-B60F-537B25B068F8",
       "version_major": 2,
       "version_minor": 0
      },
      "text/html": [
       "<p>Failed to display Jupyter Widget of type <code>{widget_type}</code>.</p>\n",
       "<p>\n",
       "  If you're reading this message in the Jupyter Notebook or JupyterLab Notebook, it may mean\n",
       "  that the widgets JavaScript is still loading. If this message persists, it\n",
       "  likely means that the widgets JavaScript library is either not installed or\n",
       "  not enabled. See the <a href=\"https://ipywidgets.readthedocs.io/en/stable/user_install.html\">Jupyter\n",
       "  Widgets Documentation</a> for setup instructions.\n",
       "</p>\n",
       "<p>\n",
       "  If you're reading this message in another frontend (for example, a static\n",
       "  rendering on GitHub or <a href=\"https://nbviewer.jupyter.org/\">NBViewer</a>),\n",
       "  it may mean that your frontend doesn't currently support widgets.\n",
       "</p>\n"
      ],
      "text/plain": [
       "A Jupyter Widget"
      ]
     },
     "execution_count": 127,
     "metadata": {},
     "output_type": "execute_result"
    }
   ],
   "source": [
    "(show *xagg*)"
   ]
  },
  {
   "cell_type": "code",
   "execution_count": null,
   "metadata": {
    "collapsed": true
   },
   "outputs": [],
   "source": []
  }
 ],
 "metadata": {
  "kernelspec": {
   "display_name": "cclasp-boehm-fast",
   "language": "lisp",
   "name": "cclasp-boehm-fast"
  },
  "language_info": {
   "codemirror_mode": "text/x-common-lisp",
   "mimetype": "text/x-common-lisp",
   "name": "common-lisp",
   "pygments_lexer": "common-lisp",
   "version": "X3J13"
  }
 },
 "nbformat": 4,
 "nbformat_minor": 2
}
